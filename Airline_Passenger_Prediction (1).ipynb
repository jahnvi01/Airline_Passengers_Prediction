{
  "nbformat": 4,
  "nbformat_minor": 0,
  "metadata": {
    "colab": {
      "name": " Airline_Passenger_Prediction.ipynb",
      "provenance": [],
      "collapsed_sections": []
    },
    "kernelspec": {
      "name": "python3",
      "display_name": "Python 3"
    },
    "accelerator": "TPU"
  },
  "cells": [
    {
      "cell_type": "code",
      "metadata": {
        "id": "IoRj3zPRS05W",
        "colab_type": "code",
        "outputId": "97013433-e674-47d3-8bfe-c7c9d7cef865",
        "colab": {
          "base_uri": "https://localhost:8080/",
          "height": 34
        }
      },
      "source": [
        "import tensorflow as tf\n",
        "import numpy as np\n",
        "import matplotlib.pyplot as plt\n",
        "print(tf.__version__)"
      ],
      "execution_count": 0,
      "outputs": [
        {
          "output_type": "stream",
          "text": [
            "2.2.0-rc2\n"
          ],
          "name": "stdout"
        }
      ]
    },
    {
      "cell_type": "code",
      "metadata": {
        "id": "WkxWq9p4Ts_K",
        "colab_type": "code",
        "colab": {}
      },
      "source": [
        "import matplotlib.pyplot as plt\n",
        "def plot_series(time, series, format=\"-\", start=0, end=None):\n",
        "    plt.plot(time[start:end], series[start:end], format)\n",
        "    plt.xlabel(\"Time\")\n",
        "    plt.ylabel(\"Value\")\n",
        "    plt.grid(True)"
      ],
      "execution_count": 0,
      "outputs": []
    },
    {
      "cell_type": "code",
      "metadata": {
        "id": "E-nV5p6SUj7g",
        "colab_type": "code",
        "outputId": "75b1a7d2-948c-4bd1-a992-ecf4ffd194b1",
        "colab": {
          "base_uri": "https://localhost:8080/",
          "height": 297
        }
      },
      "source": [
        "import csv\n",
        "time_step = []\n",
        "data = []\n",
        "import pandas as pd\n",
        "\n",
        "dataset = pd.read_csv('international-airline-passengers.csv')\n",
        "dataset.describe(\n",
        "    \n",
        ")"
      ],
      "execution_count": 0,
      "outputs": [
        {
          "output_type": "execute_result",
          "data": {
            "text/html": [
              "<div>\n",
              "<style scoped>\n",
              "    .dataframe tbody tr th:only-of-type {\n",
              "        vertical-align: middle;\n",
              "    }\n",
              "\n",
              "    .dataframe tbody tr th {\n",
              "        vertical-align: top;\n",
              "    }\n",
              "\n",
              "    .dataframe thead th {\n",
              "        text-align: right;\n",
              "    }\n",
              "</style>\n",
              "<table border=\"1\" class=\"dataframe\">\n",
              "  <thead>\n",
              "    <tr style=\"text-align: right;\">\n",
              "      <th></th>\n",
              "      <th>International airline passengers: monthly totals in thousands. Jan 49 ? Dec 60</th>\n",
              "    </tr>\n",
              "  </thead>\n",
              "  <tbody>\n",
              "    <tr>\n",
              "      <th>count</th>\n",
              "      <td>144.000000</td>\n",
              "    </tr>\n",
              "    <tr>\n",
              "      <th>mean</th>\n",
              "      <td>280.298611</td>\n",
              "    </tr>\n",
              "    <tr>\n",
              "      <th>std</th>\n",
              "      <td>119.966317</td>\n",
              "    </tr>\n",
              "    <tr>\n",
              "      <th>min</th>\n",
              "      <td>104.000000</td>\n",
              "    </tr>\n",
              "    <tr>\n",
              "      <th>25%</th>\n",
              "      <td>180.000000</td>\n",
              "    </tr>\n",
              "    <tr>\n",
              "      <th>50%</th>\n",
              "      <td>265.500000</td>\n",
              "    </tr>\n",
              "    <tr>\n",
              "      <th>75%</th>\n",
              "      <td>360.500000</td>\n",
              "    </tr>\n",
              "    <tr>\n",
              "      <th>max</th>\n",
              "      <td>622.000000</td>\n",
              "    </tr>\n",
              "  </tbody>\n",
              "</table>\n",
              "</div>"
            ],
            "text/plain": [
              "       International airline passengers: monthly totals in thousands. Jan 49 ? Dec 60\n",
              "count                                         144.000000                             \n",
              "mean                                          280.298611                             \n",
              "std                                           119.966317                             \n",
              "min                                           104.000000                             \n",
              "25%                                           180.000000                             \n",
              "50%                                           265.500000                             \n",
              "75%                                           360.500000                             \n",
              "max                                           622.000000                             "
            ]
          },
          "metadata": {
            "tags": []
          },
          "execution_count": 292
        }
      ]
    },
    {
      "cell_type": "code",
      "metadata": {
        "id": "JTWC2FRmYhnu",
        "colab_type": "code",
        "outputId": "390d1109-716f-4753-f6ed-98de1422c3e0",
        "colab": {
          "base_uri": "https://localhost:8080/",
          "height": 255
        }
      },
      "source": [
        "series=np.array(dataset[\"International airline passengers: monthly totals in thousands. Jan 49 ? Dec 60\"])\n",
        "series"
      ],
      "execution_count": 0,
      "outputs": [
        {
          "output_type": "execute_result",
          "data": {
            "text/plain": [
              "array([112., 118., 132., 129., 121., 135., 148., 148., 136., 119., 104.,\n",
              "       118., 115., 126., 141., 135., 125., 149., 170., 170., 158., 133.,\n",
              "       114., 140., 145., 150., 178., 163., 172., 178., 199., 199., 184.,\n",
              "       162., 146., 166., 171., 180., 193., 181., 183., 218., 230., 242.,\n",
              "       209., 191., 172., 194., 196., 196., 236., 235., 229., 243., 264.,\n",
              "       272., 237., 211., 180., 201., 204., 188., 235., 227., 234., 264.,\n",
              "       302., 293., 259., 229., 203., 229., 242., 233., 267., 269., 270.,\n",
              "       315., 364., 347., 312., 274., 237., 278., 284., 277., 317., 313.,\n",
              "       318., 374., 413., 405., 355., 306., 271., 306., 315., 301., 356.,\n",
              "       348., 355., 422., 465., 467., 404., 347., 305., 336., 340., 318.,\n",
              "       362., 348., 363., 435., 491., 505., 404., 359., 310., 337., 360.,\n",
              "       342., 406., 396., 420., 472., 548., 559., 463., 407., 362., 405.,\n",
              "       417., 391., 419., 461., 472., 535., 622., 606., 508., 461., 390.,\n",
              "       432.,  nan])"
            ]
          },
          "metadata": {
            "tags": []
          },
          "execution_count": 293
        }
      ]
    },
    {
      "cell_type": "code",
      "metadata": {
        "id": "uoLiYU8BYr8h",
        "colab_type": "code",
        "outputId": "b7b1613e-faff-4b6d-9a3f-9d9c1f5f2ed6",
        "colab": {
          "base_uri": "https://localhost:8080/",
          "height": 34
        }
      },
      "source": [
        "time=np.arange(0,len(series))\n",
        "\n",
        "len(time),len(series)"
      ],
      "execution_count": 0,
      "outputs": [
        {
          "output_type": "execute_result",
          "data": {
            "text/plain": [
              "(145, 145)"
            ]
          },
          "metadata": {
            "tags": []
          },
          "execution_count": 294
        }
      ]
    },
    {
      "cell_type": "code",
      "metadata": {
        "id": "9zdiJlErZCzN",
        "colab_type": "code",
        "outputId": "9b2612b7-0a61-4346-ce20-813a3b3b0490",
        "colab": {
          "base_uri": "https://localhost:8080/",
          "height": 279
        }
      },
      "source": [
        "plot_series(time,series)"
      ],
      "execution_count": 0,
      "outputs": [
        {
          "output_type": "display_data",
          "data": {
            "image/png": "[encoded data removed]",
            "text/plain": [
              "<Figure size 432x288 with 1 Axes>"
            ]
          },
          "metadata": {
            "tags": []
          }
        }
      ]
    },
    {
      "cell_type": "code",
      "metadata": {
        "id": "yXwwEc5CZMVv",
        "colab_type": "code",
        "colab": {}
      },
      "source": [
        "split_time = 100\n",
        "time_train = time[:split_time]\n",
        "x_train = series[:split_time]\n",
        "time_valid = time[split_time:]\n",
        "x_test = series[split_time:]\n"
      ],
      "execution_count": 0,
      "outputs": []
    },
    {
      "cell_type": "code",
      "metadata": {
        "id": "TcDouV03anHe",
        "colab_type": "code",
        "colab": {}
      },
      "source": [
        "from sklearn.preprocessing import StandardScaler\n",
        "def windowed_dataset(series, window_size, batch_size, shuffle_buffer):\n",
        "\n",
        "    ds = tf.data.Dataset.from_tensor_slices(series)\n",
        "    ds = ds.window(window_size + 1, shift=1, drop_remainder=True)\n",
        "    ds = ds.flat_map(lambda w: w.batch(window_size + 1))\n",
        "  #  ds = ds.shuffle(shuffle_buffer)\n",
        "    ds = ds.map(lambda w: (w[:-1], w[1:]))\n",
        "    \n",
        "    return ds.batch(batch_size).prefetch(1)\n",
        "\n",
        "scaler = StandardScaler()\n",
        "x_train = np.array(x_train).reshape(-1,1)\n",
        "x_test = np.array(x_test).reshape(-1,1)\n",
        "x_train = scaler.fit_transform(x_train)\n",
        "\n",
        "x_test = scaler.fit(x_test)\n",
        "  \n",
        "train=windowed_dataset(x_train,10,3,5)\n"
      ],
      "execution_count": 0,
      "outputs": []
    },
    {
      "cell_type": "code",
      "metadata": {
        "id": "G_xnwvYHcyD9",
        "colab_type": "code",
        "outputId": "aaa0f22c-d318-4b97-84ee-af7869544c06",
        "colab": {
          "base_uri": "https://localhost:8080/",
          "height": 1000
        }
      },
      "source": [
        "model = tf.keras.models.Sequential([\n",
        "\n",
        "  tf.keras.layers.LSTM(10, return_sequences=True),\n",
        "  tf.keras.layers.Dense(10, activation=\"relu\"),\n",
        "  tf.keras.layers.Dense(1),\n",
        "\n",
        " \n",
        "])\n",
        "\n",
        "model.compile(loss = 'mean_squared_error', optimizer = 'adam')\n",
        "history = model.fit(train, epochs=100)\n"
      ],
      "execution_count": 0,
      "outputs": [
        {
          "output_type": "stream",
          "text": [
            "Epoch 1/100\n",
            "WARNING:tensorflow:Layer lstm_45 is casting an input tensor from dtype float64 to the layer's dtype of float32, which is new behavior in TensorFlow 2.  The layer has dtype float32 because it's dtype defaults to floatx.\n",
            "\n",
            "If you intended to run this layer in float32, you can safely ignore this warning. If in doubt, this warning is likely only an issue if you are porting a TensorFlow 1.X model to TensorFlow 2.\n",
            "\n",
            "To change all layers to have dtype float64 by default, call `tf.keras.backend.set_floatx('float64')`. To change just this layer, pass dtype='float64' to the layer constructor. If you are the author of this layer, you can disable autocasting by passing autocast=False to the base Layer constructor.\n",
            "\n",
            "30/30 [==============================] - 0s 5ms/step - loss: 1.0264\n",
            "Epoch 2/100\n",
            "30/30 [==============================] - 0s 5ms/step - loss: 0.8837\n",
            "Epoch 3/100\n",
            "30/30 [==============================] - 0s 5ms/step - loss: 0.8250\n",
            "Epoch 4/100\n",
            "30/30 [==============================] - 0s 5ms/step - loss: 0.7588\n",
            "Epoch 5/100\n",
            "30/30 [==============================] - 0s 4ms/step - loss: 0.6841\n",
            "Epoch 6/100\n",
            "30/30 [==============================] - 0s 5ms/step - loss: 0.6187\n",
            "Epoch 7/100\n",
            "30/30 [==============================] - 0s 5ms/step - loss: 0.5759\n",
            "Epoch 8/100\n",
            "30/30 [==============================] - 0s 5ms/step - loss: 0.5515\n",
            "Epoch 9/100\n",
            "30/30 [==============================] - 0s 5ms/step - loss: 0.5307\n",
            "Epoch 10/100\n",
            "30/30 [==============================] - 0s 4ms/step - loss: 0.5069\n",
            "Epoch 11/100\n",
            "30/30 [==============================] - 0s 5ms/step - loss: 0.4764\n",
            "Epoch 12/100\n",
            "30/30 [==============================] - 0s 5ms/step - loss: 0.4334\n",
            "Epoch 13/100\n",
            "30/30 [==============================] - 0s 4ms/step - loss: 0.3801\n",
            "Epoch 14/100\n",
            "30/30 [==============================] - 0s 5ms/step - loss: 0.3299\n",
            "Epoch 15/100\n",
            "30/30 [==============================] - 0s 5ms/step - loss: 0.2930\n",
            "Epoch 16/100\n",
            "30/30 [==============================] - 0s 5ms/step - loss: 0.2681\n",
            "Epoch 17/100\n",
            "30/30 [==============================] - 0s 5ms/step - loss: 0.2503\n",
            "Epoch 18/100\n",
            "30/30 [==============================] - 0s 5ms/step - loss: 0.2368\n",
            "Epoch 19/100\n",
            "30/30 [==============================] - 0s 5ms/step - loss: 0.2253\n",
            "Epoch 20/100\n",
            "30/30 [==============================] - 0s 5ms/step - loss: 0.2153\n",
            "Epoch 21/100\n",
            "30/30 [==============================] - 0s 5ms/step - loss: 0.2064\n",
            "Epoch 22/100\n",
            "30/30 [==============================] - 0s 5ms/step - loss: 0.1981\n",
            "Epoch 23/100\n",
            "30/30 [==============================] - 0s 5ms/step - loss: 0.1892\n",
            "Epoch 24/100\n",
            "30/30 [==============================] - 0s 5ms/step - loss: 0.1804\n",
            "Epoch 25/100\n",
            "30/30 [==============================] - 0s 5ms/step - loss: 0.1725\n",
            "Epoch 26/100\n",
            "30/30 [==============================] - 0s 5ms/step - loss: 0.1656\n",
            "Epoch 27/100\n",
            "30/30 [==============================] - 0s 5ms/step - loss: 0.1593\n",
            "Epoch 28/100\n",
            "30/30 [==============================] - 0s 5ms/step - loss: 0.1531\n",
            "Epoch 29/100\n",
            "30/30 [==============================] - 0s 4ms/step - loss: 0.1470\n",
            "Epoch 30/100\n",
            "30/30 [==============================] - 0s 5ms/step - loss: 0.1410\n",
            "Epoch 31/100\n",
            "30/30 [==============================] - 0s 5ms/step - loss: 0.1356\n",
            "Epoch 32/100\n",
            "30/30 [==============================] - 0s 5ms/step - loss: 0.1307\n",
            "Epoch 33/100\n",
            "30/30 [==============================] - 0s 5ms/step - loss: 0.1261\n",
            "Epoch 34/100\n",
            "30/30 [==============================] - 0s 5ms/step - loss: 0.1222\n",
            "Epoch 35/100\n",
            "30/30 [==============================] - 0s 5ms/step - loss: 0.1184\n",
            "Epoch 36/100\n",
            "30/30 [==============================] - 0s 5ms/step - loss: 0.1152\n",
            "Epoch 37/100\n",
            "30/30 [==============================] - 0s 5ms/step - loss: 0.1122\n",
            "Epoch 38/100\n",
            "30/30 [==============================] - 0s 5ms/step - loss: 0.1095\n",
            "Epoch 39/100\n",
            "30/30 [==============================] - 0s 5ms/step - loss: 0.1068\n",
            "Epoch 40/100\n",
            "30/30 [==============================] - 0s 5ms/step - loss: 0.1046\n",
            "Epoch 41/100\n",
            "30/30 [==============================] - 0s 5ms/step - loss: 0.1025\n",
            "Epoch 42/100\n",
            "30/30 [==============================] - 0s 5ms/step - loss: 0.1007\n",
            "Epoch 43/100\n",
            "30/30 [==============================] - 0s 5ms/step - loss: 0.0989\n",
            "Epoch 44/100\n",
            "30/30 [==============================] - 0s 5ms/step - loss: 0.0974\n",
            "Epoch 45/100\n",
            "30/30 [==============================] - 0s 5ms/step - loss: 0.0960\n",
            "Epoch 46/100\n",
            "30/30 [==============================] - 0s 5ms/step - loss: 0.0947\n",
            "Epoch 47/100\n",
            "30/30 [==============================] - 0s 5ms/step - loss: 0.0935\n",
            "Epoch 48/100\n",
            "30/30 [==============================] - 0s 5ms/step - loss: 0.0926\n",
            "Epoch 49/100\n",
            "30/30 [==============================] - 0s 5ms/step - loss: 0.0916\n",
            "Epoch 50/100\n",
            "30/30 [==============================] - 0s 5ms/step - loss: 0.0908\n",
            "Epoch 51/100\n",
            "30/30 [==============================] - 0s 5ms/step - loss: 0.0901\n",
            "Epoch 52/100\n",
            "30/30 [==============================] - 0s 5ms/step - loss: 0.0894\n",
            "Epoch 53/100\n",
            "30/30 [==============================] - 0s 5ms/step - loss: 0.0888\n",
            "Epoch 54/100\n",
            "30/30 [==============================] - 0s 5ms/step - loss: 0.0882\n",
            "Epoch 55/100\n",
            "30/30 [==============================] - 0s 5ms/step - loss: 0.0876\n",
            "Epoch 56/100\n",
            "30/30 [==============================] - 0s 5ms/step - loss: 0.0871\n",
            "Epoch 57/100\n",
            "30/30 [==============================] - 0s 5ms/step - loss: 0.0867\n",
            "Epoch 58/100\n",
            "30/30 [==============================] - 0s 5ms/step - loss: 0.0862\n",
            "Epoch 59/100\n",
            "30/30 [==============================] - 0s 5ms/step - loss: 0.0859\n",
            "Epoch 60/100\n",
            "30/30 [==============================] - 0s 5ms/step - loss: 0.0855\n",
            "Epoch 61/100\n",
            "30/30 [==============================] - 0s 5ms/step - loss: 0.0852\n",
            "Epoch 62/100\n",
            "30/30 [==============================] - 0s 5ms/step - loss: 0.0849\n",
            "Epoch 63/100\n",
            "30/30 [==============================] - 0s 5ms/step - loss: 0.0846\n",
            "Epoch 64/100\n",
            "30/30 [==============================] - 0s 5ms/step - loss: 0.0843\n",
            "Epoch 65/100\n",
            "30/30 [==============================] - 0s 5ms/step - loss: 0.0840\n",
            "Epoch 66/100\n",
            "30/30 [==============================] - 0s 6ms/step - loss: 0.0837\n",
            "Epoch 67/100\n",
            "30/30 [==============================] - 0s 5ms/step - loss: 0.0835\n",
            "Epoch 68/100\n",
            "30/30 [==============================] - 0s 5ms/step - loss: 0.0831\n",
            "Epoch 69/100\n",
            "30/30 [==============================] - 0s 5ms/step - loss: 0.0829\n",
            "Epoch 70/100\n",
            "30/30 [==============================] - 0s 5ms/step - loss: 0.0826\n",
            "Epoch 71/100\n",
            "30/30 [==============================] - 0s 5ms/step - loss: 0.0824\n",
            "Epoch 72/100\n",
            "30/30 [==============================] - 0s 5ms/step - loss: 0.0822\n",
            "Epoch 73/100\n",
            "30/30 [==============================] - 0s 5ms/step - loss: 0.0819\n",
            "Epoch 74/100\n",
            "30/30 [==============================] - 0s 5ms/step - loss: 0.0817\n",
            "Epoch 75/100\n",
            "30/30 [==============================] - 0s 5ms/step - loss: 0.0816\n",
            "Epoch 76/100\n",
            "30/30 [==============================] - 0s 5ms/step - loss: 0.0814\n",
            "Epoch 77/100\n",
            "30/30 [==============================] - 0s 5ms/step - loss: 0.0812\n",
            "Epoch 78/100\n",
            "30/30 [==============================] - 0s 5ms/step - loss: 0.0811\n",
            "Epoch 79/100\n",
            "30/30 [==============================] - 0s 5ms/step - loss: 0.0809\n",
            "Epoch 80/100\n",
            "30/30 [==============================] - 0s 5ms/step - loss: 0.0808\n",
            "Epoch 81/100\n",
            "30/30 [==============================] - 0s 5ms/step - loss: 0.0806\n",
            "Epoch 82/100\n",
            "30/30 [==============================] - 0s 5ms/step - loss: 0.0805\n",
            "Epoch 83/100\n",
            "30/30 [==============================] - 0s 5ms/step - loss: 0.0803\n",
            "Epoch 84/100\n",
            "30/30 [==============================] - 0s 5ms/step - loss: 0.0802\n",
            "Epoch 85/100\n",
            "30/30 [==============================] - 0s 5ms/step - loss: 0.0801\n",
            "Epoch 86/100\n",
            "30/30 [==============================] - 0s 5ms/step - loss: 0.0800\n",
            "Epoch 87/100\n",
            "30/30 [==============================] - 0s 5ms/step - loss: 0.0798\n",
            "Epoch 88/100\n",
            "30/30 [==============================] - 0s 5ms/step - loss: 0.0798\n",
            "Epoch 89/100\n",
            "30/30 [==============================] - 0s 5ms/step - loss: 0.0796\n",
            "Epoch 90/100\n",
            "30/30 [==============================] - 0s 5ms/step - loss: 0.0795\n",
            "Epoch 91/100\n",
            "30/30 [==============================] - 0s 5ms/step - loss: 0.0794\n",
            "Epoch 92/100\n",
            "30/30 [==============================] - 0s 5ms/step - loss: 0.0793\n",
            "Epoch 93/100\n",
            "30/30 [==============================] - 0s 5ms/step - loss: 0.0792\n",
            "Epoch 94/100\n",
            "30/30 [==============================] - 0s 5ms/step - loss: 0.0791\n",
            "Epoch 95/100\n",
            "30/30 [==============================] - 0s 5ms/step - loss: 0.0789\n",
            "Epoch 96/100\n",
            "30/30 [==============================] - 0s 5ms/step - loss: 0.0789\n",
            "Epoch 97/100\n",
            "30/30 [==============================] - 0s 5ms/step - loss: 0.0787\n",
            "Epoch 98/100\n",
            "30/30 [==============================] - 0s 5ms/step - loss: 0.0787\n",
            "Epoch 99/100\n",
            "30/30 [==============================] - 0s 5ms/step - loss: 0.0785\n",
            "Epoch 100/100\n",
            "30/30 [==============================] - 0s 5ms/step - loss: 0.0785\n"
          ],
          "name": "stdout"
        }
      ]
    },
    {
      "cell_type": "code",
      "metadata": {
        "id": "7LMp8ww_iTKg",
        "colab_type": "code",
        "colab": {}
      },
      "source": [
        "def model_forecast(model, series, window_size):\n",
        "    ds = tf.data.Dataset.from_tensor_slices(series)\n",
        "    ds = ds.window(window_size, shift=1, drop_remainder=True)\n",
        "    ds = ds.flat_map(lambda w: w.batch(window_size))\n",
        "    ds = ds.batch(3).prefetch(1)\n",
        "    forecast = model.predict(ds)\n",
        "    return forecast"
      ],
      "execution_count": 0,
      "outputs": []
    },
    {
      "cell_type": "code",
      "metadata": {
        "id": "sU-5Sk-syt3N",
        "colab_type": "code",
        "outputId": "702c93b3-6514-4902-b991-6e1853c5869f",
        "colab": {
          "base_uri": "https://localhost:8080/",
          "height": 1000
        }
      },
      "source": [
        "series = np.array(series).reshape(-1,1)\n",
        "\n",
        "\n",
        "series = scaler.fit_transform(series)\n",
        "print(series)\n",
        "\n",
        "print(x_validation)\n"
      ],
      "execution_count": 0,
      "outputs": [
        {
          "output_type": "stream",
          "text": [
            "[[-1.40777884]\n",
            " [-1.35759023]\n",
            " [-1.24048348]\n",
            " [-1.26557778]\n",
            " [-1.33249593]\n",
            " [-1.21538918]\n",
            " [-1.10664719]\n",
            " [-1.10664719]\n",
            " [-1.20702441]\n",
            " [-1.34922546]\n",
            " [-1.47469699]\n",
            " [-1.35759023]\n",
            " [-1.38268454]\n",
            " [-1.29067209]\n",
            " [-1.16520057]\n",
            " [-1.21538918]\n",
            " [-1.29903686]\n",
            " [-1.09828242]\n",
            " [-0.9226223 ]\n",
            " [-0.9226223 ]\n",
            " [-1.02299951]\n",
            " [-1.23211871]\n",
            " [-1.3910493 ]\n",
            " [-1.17356534]\n",
            " [-1.1317415 ]\n",
            " [-1.08991766]\n",
            " [-0.85570415]\n",
            " [-0.98117567]\n",
            " [-0.90589276]\n",
            " [-0.85570415]\n",
            " [-0.68004402]\n",
            " [-0.68004402]\n",
            " [-0.80551554]\n",
            " [-0.98954044]\n",
            " [-1.12337673]\n",
            " [-0.95608137]\n",
            " [-0.91425753]\n",
            " [-0.83897462]\n",
            " [-0.73023263]\n",
            " [-0.83060985]\n",
            " [-0.81388031]\n",
            " [-0.52111343]\n",
            " [-0.42073621]\n",
            " [-0.320359  ]\n",
            " [-0.59639634]\n",
            " [-0.74696217]\n",
            " [-0.90589276]\n",
            " [-0.72186786]\n",
            " [-0.70513833]\n",
            " [-0.70513833]\n",
            " [-0.37054761]\n",
            " [-0.37891237]\n",
            " [-0.42910098]\n",
            " [-0.31199423]\n",
            " [-0.1363341 ]\n",
            " [-0.06941596]\n",
            " [-0.36218284]\n",
            " [-0.57966681]\n",
            " [-0.83897462]\n",
            " [-0.66331449]\n",
            " [-0.63822018]\n",
            " [-0.77205647]\n",
            " [-0.37891237]\n",
            " [-0.44583052]\n",
            " [-0.38727714]\n",
            " [-0.1363341 ]\n",
            " [ 0.18152708]\n",
            " [ 0.10624417]\n",
            " [-0.17815794]\n",
            " [-0.42910098]\n",
            " [-0.64658495]\n",
            " [-0.42910098]\n",
            " [-0.320359  ]\n",
            " [-0.39564191]\n",
            " [-0.1112398 ]\n",
            " [-0.09451026]\n",
            " [-0.08614549]\n",
            " [ 0.29026907]\n",
            " [ 0.7001427 ]\n",
            " [ 0.55794164]\n",
            " [ 0.26517476]\n",
            " [-0.05268642]\n",
            " [-0.36218284]\n",
            " [-0.01922735]\n",
            " [ 0.03096126]\n",
            " [-0.02759212]\n",
            " [ 0.3069986 ]\n",
            " [ 0.27353953]\n",
            " [ 0.31536337]\n",
            " [ 0.78379038]\n",
            " [ 1.11001633]\n",
            " [ 1.04309819]\n",
            " [ 0.62485979]\n",
            " [ 0.21498616]\n",
            " [-0.07778072]\n",
            " [ 0.21498616]\n",
            " [ 0.29026907]\n",
            " [ 0.17316232]\n",
            " [ 0.63322456]\n",
            " [ 0.56630641]\n",
            " [ 0.62485979]\n",
            " [ 1.18529925]\n",
            " [ 1.54498427]\n",
            " [ 1.56171381]\n",
            " [ 1.03473342]\n",
            " [ 0.55794164]\n",
            " [ 0.20662139]\n",
            " [ 0.4659292 ]\n",
            " [ 0.49938827]\n",
            " [ 0.31536337]\n",
            " [ 0.68341317]\n",
            " [ 0.56630641]\n",
            " [ 0.69177793]\n",
            " [ 1.29404123]\n",
            " [ 1.76246824]\n",
            " [ 1.87957499]\n",
            " [ 1.03473342]\n",
            " [ 0.65831886]\n",
            " [ 0.24844523]\n",
            " [ 0.47429396]\n",
            " [ 0.66668363]\n",
            " [ 0.5161178 ]\n",
            " [ 1.05146296]\n",
            " [ 0.96781528]\n",
            " [ 1.16856971]\n",
            " [ 1.60353765]\n",
            " [ 2.23926002]\n",
            " [ 2.33127247]\n",
            " [ 1.52825474]\n",
            " [ 1.05982773]\n",
            " [ 0.68341317]\n",
            " [ 1.04309819]\n",
            " [ 1.14347541]\n",
            " [ 0.92599144]\n",
            " [ 1.16020494]\n",
            " [ 1.5115252 ]\n",
            " [ 1.60353765]\n",
            " [ 2.13051803]\n",
            " [ 2.85825285]\n",
            " [ 2.72441656]\n",
            " [ 1.9046693 ]\n",
            " [ 1.5115252 ]\n",
            " [ 0.91762667]\n",
            " [ 1.26894693]\n",
            " [        nan]]\n",
            "[355. 422. 465. 467. 404. 347. 305. 336. 340. 318. 362. 348. 363. 435.\n",
            " 491. 505. 404. 359. 310. 337. 360. 342. 406. 396. 420. 472. 548. 559.\n",
            " 463. 407. 362. 405. 417. 391. 419. 461. 472. 535. 622. 606. 508. 461.\n",
            " 390. 432.  nan]\n"
          ],
          "name": "stdout"
        }
      ]
    },
    {
      "cell_type": "code",
      "metadata": {
        "id": "2qhPOqmLMIrQ",
        "colab_type": "code",
        "outputId": "bfefd495-746a-4818-9f3b-a22682243591",
        "colab": {
          "base_uri": "https://localhost:8080/",
          "height": 34
        }
      },
      "source": [
        "rnn_forecast = model_forecast(model, series, 10)\n",
        "rnn_forecast.shape\n"
      ],
      "execution_count": 0,
      "outputs": [
        {
          "output_type": "execute_result",
          "data": {
            "text/plain": [
              "(136, 10, 1)"
            ]
          },
          "metadata": {
            "tags": []
          },
          "execution_count": 321
        }
      ]
    },
    {
      "cell_type": "code",
      "metadata": {
        "id": "Vkc4prmDNLfH",
        "colab_type": "code",
        "outputId": "65e1a6e7-8f68-4d1d-db16-dc81ba19769a",
        "colab": {
          "base_uri": "https://localhost:8080/",
          "height": 34
        }
      },
      "source": [
        "\n",
        "x_pred=[]\n",
        "for x in rnn_forecast[0]:\n",
        "  x_pred.append(x)\n",
        "for x in rnn_forecast[1:]:\n",
        "  x_pred.append(x[9])\n",
        "\n",
        "len(x_pred)\n"
      ],
      "execution_count": 0,
      "outputs": [
        {
          "output_type": "execute_result",
          "data": {
            "text/plain": [
              "145"
            ]
          },
          "metadata": {
            "tags": []
          },
          "execution_count": 333
        }
      ]
    },
    {
      "cell_type": "code",
      "metadata": {
        "id": "hleK8jp9SQmH",
        "colab_type": "code",
        "outputId": "ab2b2b21-00bc-4770-bfe6-31c39fef9250",
        "colab": {
          "base_uri": "https://localhost:8080/",
          "height": 388
        }
      },
      "source": [
        "plt.figure(figsize=(10, 6))\n",
        "plot_series(time, x_pred)\n",
        "plot_series(time, series)"
      ],
      "execution_count": 0,
      "outputs": [
        {
          "output_type": "display_data",
          "data": {
            "image/png": "[encoded data removed]",
            "text/plain": [
              "<Figure size 720x432 with 1 Axes>"
            ]
          },
          "metadata": {
            "tags": []
          }
        }
      ]
    }
  ]
}